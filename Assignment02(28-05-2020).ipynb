{
 "cells": [
  {
   "cell_type": "markdown",
   "metadata": {},
   "source": [
    "## 1"
   ]
  },
  {
   "cell_type": "code",
   "execution_count": 5,
   "metadata": {},
   "outputs": [
    {
     "name": "stdout",
     "output_type": "stream",
     "text": [
      "enter the stringapple@\n",
      "vowels count: 2\n",
      "Consonant count: 3\n",
      "Special characer count: 1\n"
     ]
    }
   ],
   "source": [
    "s=input(\"enter the string\")\n",
    "vc=int(0)\n",
    "cc=int(0)\n",
    "spch=int(0)\n",
    "for i in s:\n",
    "    if(i=='a' or i=='e' or i=='i' or i=='o' or i=='u'):\n",
    "        vc+=1\n",
    "    elif(i>='a' and i<='z'):\n",
    "        cc+=1\n",
    "    else:\n",
    "        spch+=1\n",
    "print(\"vowels count:\",vc)\n",
    "print(\"Consonant count:\",cc)\n",
    "print(\"Special characer count:\",spch)"
   ]
  },
  {
   "cell_type": "markdown",
   "metadata": {},
   "source": [
    "## 2"
   ]
  },
  {
   "cell_type": "code",
   "execution_count": 12,
   "metadata": {},
   "outputs": [
    {
     "name": "stdout",
     "output_type": "stream",
     "text": [
      "enter the string:aabaabaababa\n",
      "3\n"
     ]
    }
   ],
   "source": [
    "s=input(\"enter the string:\")\n",
    "print(s.count(\"aa\"))"
   ]
  },
  {
   "cell_type": "markdown",
   "metadata": {},
   "source": [
    "## 3"
   ]
  },
  {
   "cell_type": "code",
   "execution_count": 30,
   "metadata": {},
   "outputs": [
    {
     "name": "stdout",
     "output_type": "stream",
     "text": [
      "enter the parenthesis((((()()()))))()\n",
      "8\n"
     ]
    }
   ],
   "source": [
    "s=input(\"enter the parenthesis\")\n",
    "lc=0\n",
    "rc=0\n",
    "for i in s:\n",
    "    if(lc>=rc):\n",
    "        if(i=='('):\n",
    "            lc+=1\n",
    "        elif(i==')'):\n",
    "            rc+=1\n",
    "    else:\n",
    "        break\n",
    "if(lc==rc):\n",
    "    print(lc)\n",
    "else:\n",
    "    print(\"the parenthesis are not opened or closed properly\")\n",
    "    "
   ]
  },
  {
   "cell_type": "markdown",
   "metadata": {},
   "source": [
    "## 4"
   ]
  },
  {
   "cell_type": "code",
   "execution_count": 29,
   "metadata": {},
   "outputs": [
    {
     "name": "stdout",
     "output_type": "stream",
     "text": [
      "enter the lower limit value1\n",
      "enter the upper limit value100\n",
      "18\n"
     ]
    }
   ],
   "source": [
    "a=int(input(\"enter the lower limit value\"))\n",
    "b=int(input(\"enter the upper limit value\"))\n",
    "c=0\n",
    "for i in range(a,b+1,1):\n",
    "    if(str(i)==str(i)[::-1]):\n",
    "        c+=1\n",
    "print(c)"
   ]
  },
  {
   "cell_type": "markdown",
   "metadata": {},
   "source": [
    "## 5"
   ]
  },
  {
   "cell_type": "code",
   "execution_count": 34,
   "metadata": {},
   "outputs": [
    {
     "name": "stdout",
     "output_type": "stream",
     "text": [
      "enter the number127\n",
      "848\n"
     ]
    }
   ],
   "source": [
    "n=int(input(\"enter the number\"))\n",
    "while(1):\n",
    "    if(str(n)==str(n)[::-1]):\n",
    "        print(n)\n",
    "        break\n",
    "    else:\n",
    "        n=n+int(str(n)[::-1])\n",
    "    "
   ]
  },
  {
   "cell_type": "markdown",
   "metadata": {},
   "source": [
    "## 6"
   ]
  },
  {
   "cell_type": "code",
   "execution_count": 47,
   "metadata": {},
   "outputs": [
    {
     "name": "stdout",
     "output_type": "stream",
     "text": [
      "enter the stringorange\n",
      "p u b o i f "
     ]
    }
   ],
   "source": [
    "s=input(\"enter the string\")\n",
    "for i in s:\n",
    "    if(i=='a' or i=='e' or i=='i' or i=='o' or i=='u'):\n",
    "        s1=i\n",
    "        s2=chr(ord(s1)+1)\n",
    "        print(s2,end=\" \")\n",
    "    elif(i>'a' and i<'e'):\n",
    "        print(\"e\",end=\" \")\n",
    "    elif(i>'e' and i<'i'):\n",
    "        print(\"i\",end=\" \")\n",
    "    elif(i>'i' and i<'o'):\n",
    "        print(\"o\",end=\" \")\n",
    "    elif(i>'o' and i<'u'):\n",
    "        print(\"u\",end=\" \")\n",
    "    else:\n",
    "        print(\"a\",end=\" \")"
   ]
  },
  {
   "cell_type": "markdown",
   "metadata": {},
   "source": [
    "## 7"
   ]
  },
  {
   "cell_type": "code",
   "execution_count": 12,
   "metadata": {},
   "outputs": [
    {
     "name": "stdout",
     "output_type": "stream",
     "text": [
      "enter the input stringAppli123cation456\n",
      "21\n"
     ]
    }
   ],
   "source": [
    "s=input(\"enter the input string\")\n",
    "sum=0\n",
    "for i in range(0,len(s)):\n",
    "    if(s[i]>='0' and s[i]<='9'):\n",
    "        sum=sum+int(s[i])\n",
    "print(sum)\n",
    "        "
   ]
  },
  {
   "cell_type": "markdown",
   "metadata": {},
   "source": [
    "## 8"
   ]
  },
  {
   "cell_type": "code",
   "execution_count": 14,
   "metadata": {},
   "outputs": [
    {
     "name": "stdout",
     "output_type": "stream",
     "text": [
      "enter the score to generate the grade0.85\n",
      "B\n"
     ]
    }
   ],
   "source": [
    "grade=float(input(\"enter the score to generate the grade\"))\n",
    "if(grade>=0.9 and grade<=1.0):\n",
    "    print(\"A\")\n",
    "elif(grade>=0.8 and grade<=0.89):\n",
    "    print(\"B\")\n",
    "elif(grade>=0.7 and grade<=0.79):\n",
    "    print(\"C\")\n",
    "elif(grade>=0.6 and grade<=0.69):\n",
    "    print(\"D\")\n",
    "elif(grade>=0.0 and grade<=0.59):\n",
    "    print(\"F\")\n",
    "else:\n",
    "    print(\"Not Valid Score\")\n"
   ]
  },
  {
   "cell_type": "markdown",
   "metadata": {},
   "source": [
    "## 9"
   ]
  },
  {
   "cell_type": "code",
   "execution_count": 17,
   "metadata": {},
   "outputs": [
    {
     "name": "stdout",
     "output_type": "stream",
     "text": [
      "1\n",
      "2\n",
      "Fizz\n",
      "4\n",
      "Buzz\n",
      "Fizz\n",
      "7\n",
      "8\n",
      "Fizz\n",
      "Buzz\n",
      "11\n",
      "Fizz\n",
      "13\n",
      "14\n",
      "FizzBuzz\n",
      "16\n",
      "17\n",
      "Fizz\n",
      "19\n",
      "Buzz\n",
      "Fizz\n",
      "22\n",
      "23\n",
      "Fizz\n",
      "Buzz\n",
      "26\n",
      "Fizz\n",
      "28\n",
      "29\n",
      "FizzBuzz\n",
      "31\n",
      "32\n",
      "Fizz\n",
      "34\n",
      "Buzz\n",
      "Fizz\n",
      "37\n",
      "38\n",
      "Fizz\n",
      "Buzz\n",
      "41\n",
      "Fizz\n",
      "43\n",
      "44\n",
      "FizzBuzz\n",
      "46\n",
      "47\n",
      "Fizz\n",
      "49\n",
      "Buzz\n"
     ]
    }
   ],
   "source": [
    "for i in range(1,51,1):\n",
    "    if(i%3==0 and i%5==0):\n",
    "        print(\"FizzBuzz\")\n",
    "    elif(i%3==0):\n",
    "        print(\"Fizz\")\n",
    "    elif(i%5==0):\n",
    "        print(\"Buzz\")\n",
    "    else:\n",
    "        print(i)"
   ]
  },
  {
   "cell_type": "markdown",
   "metadata": {},
   "source": [
    "## 10"
   ]
  },
  {
   "cell_type": "code",
   "execution_count": 19,
   "metadata": {},
   "outputs": [
    {
     "name": "stdout",
     "output_type": "stream",
     "text": [
      "enter the 1st number13\n",
      "enter the 2nd number29\n",
      "enter the 3rd number26\n",
      "The median is 26\n"
     ]
    }
   ],
   "source": [
    "a=int(input(\"enter the 1st number\"))\n",
    "b=int(input(\"enter the 2nd number\"))\n",
    "c=int(input(\"enter the 3rd number\"))\n",
    "if a>b:\n",
    "    if a<c:\n",
    "        median=a\n",
    "    elif b>c:\n",
    "        median=b\n",
    "    else:\n",
    "        median=c\n",
    "else:\n",
    "    if a>c:\n",
    "        median=a\n",
    "    elif b<c:\n",
    "        median=b\n",
    "    else:\n",
    "        median=c\n",
    "\n",
    "print(\"The median is\", median)"
   ]
  },
  {
   "cell_type": "code",
   "execution_count": null,
   "metadata": {},
   "outputs": [],
   "source": []
  }
 ],
 "metadata": {
  "kernelspec": {
   "display_name": "Python 3",
   "language": "python",
   "name": "python3"
  },
  "language_info": {
   "codemirror_mode": {
    "name": "ipython",
    "version": 3
   },
   "file_extension": ".py",
   "mimetype": "text/x-python",
   "name": "python",
   "nbconvert_exporter": "python",
   "pygments_lexer": "ipython3",
   "version": "3.7.6"
  }
 },
 "nbformat": 4,
 "nbformat_minor": 4
}
